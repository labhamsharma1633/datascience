{
 "cells": [
  {
   "cell_type": "markdown",
   "id": "143e74f7",
   "metadata": {},
   "source": [
    "# 📊 Student Performance Analysis & Prediction\n",
    "\n",
    "This project analyzes student exam performance using data science techniques. It includes exploratory data analysis, visualization, classification (high/low performers), and regression (score prediction)."
   ]
  },
  {
   "cell_type": "markdown",
   "id": "2c805ddb",
   "metadata": {},
   "source": [
    "## 📥 Step 1: Load the Data"
   ]
  },
  {
   "cell_type": "code",
   "execution_count": null,
   "id": "38510dbc",
   "metadata": {},
   "outputs": [],
   "source": [
    "import pandas as pd\n",
    "import seaborn as sns\n",
    "import matplotlib.pyplot as plt\n",
    "\n",
    "# Load data\n",
    "df = pd.read_csv('StudentsPerformance.csv')\n",
    "df.head()"
   ]
  },
  {
   "cell_type": "markdown",
   "id": "eb2a2608",
   "metadata": {},
   "source": [
    "## 🧹 Step 2: Data Cleaning & Basic EDA"
   ]
  },
  {
   "cell_type": "code",
   "execution_count": null,
   "id": "9a7d75f1",
   "metadata": {},
   "outputs": [],
   "source": [
    "df.info()\n",
    "df.describe()\n",
    "df.isnull().sum()"
   ]
  },
  {
   "cell_type": "markdown",
   "id": "38ee52fe",
   "metadata": {},
   "source": [
    "## 📊 Step 3: Data Visualization"
   ]
  },
  {
   "cell_type": "code",
   "execution_count": null,
   "id": "0288b038",
   "metadata": {},
   "outputs": [],
   "source": [
    "\n",
    "df['average score'] = df[['math score', 'reading score', 'writing score']].mean(axis=1)\n",
    "\n",
    "sns.barplot(x='gender', y='average score', data=df, hue='gender', palette='pastel', legend=False)\n",
    "plt.title('Average Score by Gender')\n",
    "plt.show()\n",
    "\n",
    "sns.barplot(x='race/ethnicity', y='average score', data=df, hue='race/ethnicity', palette='muted', legend=False)\n",
    "plt.title('Average Score by Race/Ethnicity')\n",
    "plt.show()\n",
    "\n",
    "sns.boxplot(x='parental level of education', y='average score', data=df)\n",
    "plt.title('Score Distribution by Parental Education')\n",
    "plt.xticks(rotation=45)\n",
    "plt.show()\n"
   ]
  },
  {
   "cell_type": "markdown",
   "id": "f9e20dc0",
   "metadata": {},
   "source": [
    "## 🛠️ Step 4: Feature Engineering"
   ]
  },
  {
   "cell_type": "code",
   "execution_count": null,
   "id": "cb742984",
   "metadata": {},
   "outputs": [],
   "source": [
    "\n",
    "df['performance level'] = df['average score'].apply(lambda x: 'High' if x >= 70 else 'Low')\n",
    "\n",
    "from sklearn.preprocessing import LabelEncoder\n",
    "df_encoded = df.copy()\n",
    "categorical_cols = ['gender', 'race/ethnicity', 'parental level of education', 'lunch', 'test preparation course']\n",
    "le = LabelEncoder()\n",
    "for col in categorical_cols:\n",
    "    df_encoded[col] = le.fit_transform(df_encoded[col])\n",
    "\n",
    "df_encoded.head()\n"
   ]
  },
  {
   "cell_type": "markdown",
   "id": "fba9b54f",
   "metadata": {},
   "source": [
    "## 🤖 Step 5: Classification (Decision Tree and Random Forest)"
   ]
  },
  {
   "cell_type": "code",
   "execution_count": null,
   "id": "a55f3b0f",
   "metadata": {},
   "outputs": [],
   "source": [
    "\n",
    "from sklearn.model_selection import train_test_split\n",
    "from sklearn.tree import DecisionTreeClassifier\n",
    "from sklearn.ensemble import RandomForestClassifier\n",
    "from sklearn.metrics import accuracy_score\n",
    "\n",
    "X = df_encoded[categorical_cols + ['math score', 'reading score', 'writing score']]\n",
    "y = df_encoded['performance level']\n",
    "X_train, X_test, y_train, y_test = train_test_split(X, y, test_size=0.2, random_state=42)\n",
    "\n",
    "tree = DecisionTreeClassifier(random_state=42).fit(X_train, y_train)\n",
    "forest = RandomForestClassifier(random_state=42).fit(X_train, y_train)\n",
    "\n",
    "print(\"Decision Tree Accuracy:\", accuracy_score(y_test, tree.predict(X_test)))\n",
    "print(\"Random Forest Accuracy:\", accuracy_score(y_test, forest.predict(X_test)))\n"
   ]
  },
  {
   "cell_type": "markdown",
   "id": "5defacbf",
   "metadata": {},
   "source": [
    "## 📈 Step 6: Regression - Predicting Average Score"
   ]
  },
  {
   "cell_type": "code",
   "execution_count": null,
   "id": "d9c71c5f",
   "metadata": {},
   "outputs": [],
   "source": [
    "\n",
    "from sklearn.linear_model import LinearRegression\n",
    "from sklearn.metrics import mean_squared_error, r2_score\n",
    "\n",
    "y_reg = df_encoded['average score']\n",
    "X_train_r, X_test_r, y_train_r, y_test_r = train_test_split(X, y_reg, test_size=0.2, random_state=42)\n",
    "reg = LinearRegression().fit(X_train_r, y_train_r)\n",
    "y_pred_r = reg.predict(X_test_r)\n",
    "\n",
    "print(\"Mean Squared Error:\", mean_squared_error(y_test_r, y_pred_r))\n",
    "print(\"R2 Score:\", r2_score(y_test_r, y_pred_r))\n"
   ]
  },
  {
   "cell_type": "markdown",
   "id": "f317c9b0",
   "metadata": {},
   "source": [
    "\n",
    "## ✅ Step 7: Project Summary\n",
    "\n",
    "- **Goal**: Analyze and predict student performance.\n",
    "- **Models Used**:\n",
    "  - Decision Tree Classifier → Accuracy: 0.97\n",
    "  - Random Forest Classifier → Accuracy: 0.98\n",
    "  - Linear Regression → R² Score: 1.00, MSE: 0.00\n",
    "- **Insights**:\n",
    "  - Test prep and math score are strong performance indicators.\n",
    "  - Random Forest gave better classification accuracy than Decision Tree.\n",
    "  - Linear Regression accurately predicted scores.\n",
    "\n",
    "🎉 Project Complete!\n"
   ]
  }
 ],
 "metadata": {},
 "nbformat": 4,
 "nbformat_minor": 5
}
